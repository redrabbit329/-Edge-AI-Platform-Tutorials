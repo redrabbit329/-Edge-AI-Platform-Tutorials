{
  "cells": [
    {
      "cell_type": "markdown",
      "metadata": {
        "id": "view-in-github",
        "colab_type": "text"
      },
      "source": [
        "<a href=\"https://colab.research.google.com/github/redrabbit329/-Edge-AI-Platform-Tutorials/blob/master/FeedForward_Example_2.ipynb\" target=\"_parent\"><img src=\"https://colab.research.google.com/assets/colab-badge.svg\" alt=\"Open In Colab\"/></a>"
      ]
    },
    {
      "cell_type": "markdown",
      "metadata": {
        "id": "-9bkzD7z10J9"
      },
      "source": [
        "### [예제 1]  Feed Forward 이해 및 계산 연습"
      ]
    },
    {
      "cell_type": "code",
      "execution_count": 1,
      "metadata": {
        "id": "LildqHeX10KD"
      },
      "outputs": [],
      "source": [
        "import numpy as np\n",
        "\n",
        "# 활성화함수 sigmoid\n",
        "def sigmoid(x):\n",
        "    \n",
        "    return 1 / (1 + np.exp(-x))"
      ]
    },
    {
      "cell_type": "code",
      "execution_count": 2,
      "metadata": {
        "id": "hjZmpmnE10KH"
      },
      "outputs": [],
      "source": [
        "input_data = np.array([1, 2])    # 입력데이터\n",
        "target_data = np.array([1])      # 정답데이터"
      ]
    },
    {
      "cell_type": "markdown",
      "metadata": {
        "id": "b2iMQ5lk10KI"
      },
      "source": [
        "#### 신경망 아키텍처 그려볼것"
      ]
    },
    {
      "cell_type": "code",
      "execution_count": 3,
      "metadata": {
        "id": "Pzuyw9FR10KI"
      },
      "outputs": [],
      "source": [
        "input_nodes = 2    # 입력노드\n",
        "hidden_nodes = 3   # 은닉노드\n",
        "output_nodes = 1   # 출력노드"
      ]
    },
    {
      "cell_type": "markdown",
      "metadata": {
        "id": "4-FQosns10KK"
      },
      "source": [
        "#### 신경망 아키텍처 그려볼것"
      ]
    },
    {
      "cell_type": "code",
      "execution_count": null,
      "metadata": {
        "id": "8VLS0gHI10KM",
        "outputId": "24df7d05-9222-4ce7-b31b-3702fd2299af"
      },
      "outputs": [
        {
          "name": "stdout",
          "output_type": "stream",
          "text": [
            "W2 =  [[0.28344889 0.85330606 0.15144335]\n",
            " [0.48588835 0.33458854 0.41656901]] , W2.shape =  (2, 3)\n",
            "b2 =  [0.47258453 0.26064422 0.50579538] , b2.shape =  (3,)\n",
            "W3 =  [[0.24779251]\n",
            " [0.05628677]\n",
            " [0.63474067]] , W3.shape =  (3, 1)\n",
            "b3 =  [0.96095362] , b3.shape =  (1,)\n"
          ]
        }
      ],
      "source": [
        "W2 = np.random.rand(input_nodes, hidden_nodes)\n",
        "b2 = np.random.rand(hidden_nodes)\n",
        "\n",
        "W3 = np.random.rand(hidden_nodes, output_nodes)\n",
        "b3 = np.random.rand(output_nodes)\n",
        "\n",
        "print(\"W2 = \", W2, \", W2.shape = \", W2.shape)\n",
        "print(\"b2 = \", b2, \", b2.shape = \", b2.shape)\n",
        "print(\"W3 = \", W3, \", W3.shape = \", W3.shape)\n",
        "print(\"b3 = \", b3, \", b3.shape = \", b3.shape)"
      ]
    },
    {
      "cell_type": "markdown",
      "metadata": {
        "id": "-BmRlhU510KP"
      },
      "source": [
        "#### Z2, A2, Z3, y(=A3), loss 값을 신경망 아키텍처에서 설명해볼것"
      ]
    },
    {
      "cell_type": "code",
      "execution_count": 7,
      "metadata": {
        "id": "1GQkhkVl10KP"
      },
      "outputs": [],
      "source": [
        "def feed_forward(xdata):\n",
        "    \n",
        "    Z2 = np.dot(xdata, W2) + b2\n",
        "    \n",
        "    print(\"[feed_forward function]\\n\")\n",
        "    \n",
        "    print(\"Z2 = \", Z2)\n",
        "    \n",
        "    A2 = sigmoid(Z2)\n",
        "    \n",
        "    print(\"A2 = \", A2)\n",
        "    \n",
        "    Z3 = np.dot(A2, W3) + b3\n",
        "    \n",
        "    print(\"Z3 = \", Z3)\n",
        "    \n",
        "    Y = A3 = sigmoid(Z3)\n",
        "    \n",
        "    print(\"Y = \", Y, \", A3 = \", A3)\n",
        "    \n",
        "    loss = np.sum((target_data-Y)**2) / (1)\n",
        "    \n",
        "    print('current loss val = ', loss)\n",
        "    \n",
        "    print(\"\\n[feed_forward function]\\n\")\n",
        "        \n",
        "    return loss\n",
        "\n",
        "    "
      ]
    },
    {
      "cell_type": "code",
      "execution_count": 6,
      "metadata": {
        "colab": {
          "base_uri": "https://localhost:8080/",
          "height": 287
        },
        "id": "8-Er59-u10KR",
        "outputId": "8b643459-b118-47de-b78e-7437b4abfda2"
      },
      "outputs": [
        {
          "output_type": "error",
          "ename": "NameError",
          "evalue": "ignored",
          "traceback": [
            "\u001b[0;31m---------------------------------------------------------------------------\u001b[0m",
            "\u001b[0;31mNameError\u001b[0m                                 Traceback (most recent call last)",
            "\u001b[0;32m<ipython-input-6-b45c3902a944>\u001b[0m in \u001b[0;36m<module>\u001b[0;34m()\u001b[0m\n\u001b[0;32m----> 1\u001b[0;31m \u001b[0mloss_val\u001b[0m \u001b[0;34m=\u001b[0m \u001b[0mfeed_forward\u001b[0m\u001b[0;34m(\u001b[0m\u001b[0minput_data\u001b[0m\u001b[0;34m)\u001b[0m\u001b[0;34m\u001b[0m\u001b[0;34m\u001b[0m\u001b[0m\n\u001b[0m",
            "\u001b[0;32m<ipython-input-5-c24519d74e3a>\u001b[0m in \u001b[0;36mfeed_forward\u001b[0;34m(xdata)\u001b[0m\n\u001b[1;32m      1\u001b[0m \u001b[0;32mdef\u001b[0m \u001b[0mfeed_forward\u001b[0m\u001b[0;34m(\u001b[0m\u001b[0mxdata\u001b[0m\u001b[0;34m)\u001b[0m\u001b[0;34m:\u001b[0m\u001b[0;34m\u001b[0m\u001b[0;34m\u001b[0m\u001b[0m\n\u001b[1;32m      2\u001b[0m \u001b[0;34m\u001b[0m\u001b[0m\n\u001b[0;32m----> 3\u001b[0;31m     \u001b[0mZ2\u001b[0m \u001b[0;34m=\u001b[0m \u001b[0mnp\u001b[0m\u001b[0;34m.\u001b[0m\u001b[0mdot\u001b[0m\u001b[0;34m(\u001b[0m\u001b[0mxdata\u001b[0m\u001b[0;34m,\u001b[0m \u001b[0mW2\u001b[0m\u001b[0;34m)\u001b[0m \u001b[0;34m+\u001b[0m \u001b[0mb2\u001b[0m\u001b[0;34m\u001b[0m\u001b[0;34m\u001b[0m\u001b[0m\n\u001b[0m\u001b[1;32m      4\u001b[0m \u001b[0;34m\u001b[0m\u001b[0m\n\u001b[1;32m      5\u001b[0m     \u001b[0mprint\u001b[0m\u001b[0;34m(\u001b[0m\u001b[0;34m\"[feed_forward function]\\n\"\u001b[0m\u001b[0;34m)\u001b[0m\u001b[0;34m\u001b[0m\u001b[0;34m\u001b[0m\u001b[0m\n",
            "\u001b[0;31mNameError\u001b[0m: name 'W2' is not defined"
          ]
        }
      ],
      "source": [
        "loss_val = feed_forward(input_data)"
      ]
    },
    {
      "cell_type": "code",
      "execution_count": 8,
      "metadata": {
        "id": "MObmmn_e10KR"
      },
      "outputs": [],
      "source": [
        "\n",
        "def numerical_derivative(f, x):    \n",
        "    delta_x = 1e-4 \n",
        "    grad = np.zeros_like(x)\n",
        "    \n",
        "    it = np.nditer(x, flags=['multi_index'], op_flags=['readwrite'])\n",
        "    \n",
        "    while not it.finished:\n",
        "        idx = it.multi_index\n",
        "        \n",
        "        print(\"debug 3. idx = \", idx, \", x[idx] = \", x[idx])   \n",
        "        \n",
        "        tmp_val = x[idx]\n",
        "        x[idx] = float(tmp_val) + delta_x\n",
        "        fx1 = f(x)   # f(x+delta_x)\n",
        "        \n",
        "        x[idx] = float(tmp_val) - delta_x \n",
        "        fx2 = f(x)   # f(x-delta_x)\n",
        "        grad[idx] = (fx1 - fx2) / (2*delta_x)\n",
        "        \n",
        "        x[idx] = tmp_val\n",
        "        it.iternext()   \n",
        "        \n",
        "    return grad\n",
        "    # 그림을 그린 다음 데이터가 어떻게 전달되는지 이해하고 설명할 수 있어야 한다."
      ]
    },
    {
      "cell_type": "code",
      "source": [
        "learning_rate = 0.1"
      ],
      "metadata": {
        "id": "ef-gMu0X9Usw"
      },
      "execution_count": null,
      "outputs": []
    },
    {
      "cell_type": "code",
      "source": [
        "for 3000 :\n",
        "W2 = W2 - learning_rate * numerical_derivative( feed_forward, W2) \n",
        "W3 = W3 - learning_rate * numerical_derivative( feed_forward, W3) \n",
        "b2 = b2 - learning_rate * numerical_derivative( feed_forward, b2) \n",
        "b3 = b3 - learning_rate * numerical_derivative( feed_forward, b3) "
      ],
      "metadata": {
        "id": "o2cJRbYX9cPq"
      },
      "execution_count": null,
      "outputs": []
    }
  ],
  "metadata": {
    "anaconda-cloud": {},
    "kernelspec": {
      "display_name": "Python 3",
      "language": "python",
      "name": "python3"
    },
    "language_info": {
      "codemirror_mode": {
        "name": "ipython",
        "version": 3
      },
      "file_extension": ".py",
      "mimetype": "text/x-python",
      "name": "python",
      "nbconvert_exporter": "python",
      "pygments_lexer": "ipython3",
      "version": "3.7.3"
    },
    "colab": {
      "name": "FeedForward_Example.ipynb",
      "provenance": [],
      "include_colab_link": true
    }
  },
  "nbformat": 4,
  "nbformat_minor": 0
}